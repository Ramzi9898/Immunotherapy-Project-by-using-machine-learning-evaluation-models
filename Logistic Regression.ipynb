{
 "cells": [
  {
   "cell_type": "markdown",
   "id": "22dcb5e3",
   "metadata": {},
   "source": [
    "# Importing"
   ]
  },
  {
   "cell_type": "code",
   "execution_count": 1,
   "id": "cdd62848",
   "metadata": {},
   "outputs": [],
   "source": [
    "#The imports of various libraries\n",
    "import pandas as pd\n",
    "from sklearn.linear_model import LogisticRegression\n",
    "from sklearn.model_selection import train_test_split\n",
    "from sklearn.metrics import accuracy_score, confusion_matrix\n",
    "import matplotlib.pyplot as plt\n",
    "import seaborn as sns\n",
    "import joblib"
   ]
  },
  {
   "cell_type": "markdown",
   "id": "b2bb2753",
   "metadata": {},
   "source": [
    "# Loading Data"
   ]
  },
  {
   "cell_type": "code",
   "execution_count": 2,
   "id": "3cb52e0e",
   "metadata": {},
   "outputs": [],
   "source": [
    "#Load the data\n",
    "data = pd.read_excel('Immunotherapy.xlsx')"
   ]
  },
  {
   "cell_type": "markdown",
   "id": "1f78af7a",
   "metadata": {},
   "source": [
    "# Preprocessing"
   ]
  },
  {
   "cell_type": "code",
   "execution_count": 3,
   "id": "30d85d33",
   "metadata": {},
   "outputs": [],
   "source": [
    "#Preprocess the data\n",
    "class Preprocess:\n",
    "    \n",
    "    #Constructor to initialize the Preprocess object\n",
    "    def __init__(self, data):\n",
    "        self.data = data\n",
    "    \n",
    "    #Delete duplicate rows in the dataset\n",
    "    def delete(self):\n",
    "        self.data.drop_duplicates(inplace=True)\n",
    "    \n",
    "    #Remove leading and trailing white spaces from string columns\n",
    "    def deleteUselessCaracters(self):\n",
    "        self.data = self.data.apply(lambda x: x.str.strip() if x.dtype == \"object\" else x)\n",
    "    \n",
    "    #Replace multiple spaces with a single space in string columns\n",
    "    def remove_multiple_spaces(self):\n",
    "        self.data = self.data.apply(lambda x: x.str.replace('\\s+', ' ') if x.dtype == \"object\" else x)\n",
    "    \n",
    "    #Replace double spaces with a single space in string columns\n",
    "    def deleteDoubleSpace(self):\n",
    "        self.data = self.data.apply(lambda x: x.str.replace('  ', ' ') if x.dtype == \"object\" else x)\n",
    "    \n",
    "    #Perform one-hot encoding for categorical variables\n",
    "    def vectorisation(self):\n",
    "        self.data = pd.get_dummies(self.data, drop_first=True)\n",
    "    \n",
    "    #Split the dataset into training and testing sets\n",
    "    def NormalSplit(self, test_size=0.2):\n",
    "        X = self.data.drop('Result_of_Treatment', axis=1)\n",
    "        y = self.data['Result_of_Treatment']\n",
    "        X_train, X_test, y_train, y_test = train_test_split(X, y, test_size=test_size, random_state=42)\n",
    "        return X_train, X_test, y_train, y_test\n",
    "\n",
    "#Creating an instance of the Preprocess class and applying the preprocessing steps\n",
    "preprocess = Preprocess(data)\n",
    "preprocess.delete()\n",
    "preprocess.deleteUselessCaracters()\n",
    "preprocess.remove_multiple_spaces()\n",
    "preprocess.deleteDoubleSpace()\n",
    "preprocess.vectorisation()\n",
    "X_train, X_test, y_train, y_test = preprocess.NormalSplit()"
   ]
  },
  {
   "cell_type": "markdown",
   "id": "4f6c5243",
   "metadata": {},
   "source": [
    "# Data Training"
   ]
  },
  {
   "cell_type": "code",
   "execution_count": 4,
   "id": "698044a5",
   "metadata": {},
   "outputs": [
    {
     "name": "stdout",
     "output_type": "stream",
     "text": [
      "Shape of data before deleting duplicated rows: (90, 8)\n",
      "Shape of data after deleting duplicated rows: (90, 8)\n"
     ]
    },
    {
     "name": "stderr",
     "output_type": "stream",
     "text": [
      "C:\\Users\\pc\\AppData\\Roaming\\Python\\Python39\\site-packages\\sklearn\\linear_model\\_logistic.py:458: ConvergenceWarning: lbfgs failed to converge (status=1):\n",
      "STOP: TOTAL NO. of ITERATIONS REACHED LIMIT.\n",
      "\n",
      "Increase the number of iterations (max_iter) or scale the data as shown in:\n",
      "    https://scikit-learn.org/stable/modules/preprocessing.html\n",
      "Please also refer to the documentation for alternative solver options:\n",
      "    https://scikit-learn.org/stable/modules/linear_model.html#logistic-regression\n",
      "  n_iter_i = _check_optimize_result(\n"
     ]
    }
   ],
   "source": [
    "#Training the data\n",
    "logreg = LogisticRegression()\n",
    "logreg.fit(X_train, y_train)\n",
    "\n",
    "#Display the size of data before removing duplicated rows\n",
    "print(\"Shape of data before deleting duplicated rows:\", data.shape)\n",
    "\n",
    "#Deleting duplicated rows\n",
    "preprocess.delete()\n",
    "\n",
    "#Display the size of data after removing duplicated rows\n",
    "print(\"Shape of data after deleting duplicated rows:\", data.shape)"
   ]
  },
  {
   "cell_type": "markdown",
   "id": "a3a409c0",
   "metadata": {},
   "source": [
    "# Data Testing"
   ]
  },
  {
   "cell_type": "code",
   "execution_count": 5,
   "id": "cc2419f6",
   "metadata": {},
   "outputs": [
    {
     "name": "stdout",
     "output_type": "stream",
     "text": [
      "Mean Accuracy: 0.8333333333333334\n",
      "Confusion Matrix:\n"
     ]
    },
    {
     "data": {
      "image/png": "[encoded data removed]",
      "text/plain": [
       "<Figure size 432x288 with 2 Axes>"
      ]
     },
     "metadata": {
      "needs_background": "light"
     },
     "output_type": "display_data"
    }
   ],
   "source": [
    "#Testing the data by calculating mean accuracy\n",
    "y_pred = logreg.predict(X_test)\n",
    "accuracy = accuracy_score(y_test, y_pred)\n",
    "print(\"Mean Accuracy:\", accuracy)\n",
    "\n",
    "#Displaying and ploting confusion matrix\n",
    "confusion = confusion_matrix(y_test, y_pred)\n",
    "print(\"Confusion Matrix:\")\n",
    "sns.heatmap(confusion, annot=True, cmap=\"Blues\")\n",
    "plt.xlabel(\"Predicted\")\n",
    "plt.ylabel(\"Actual\")\n",
    "plt.show()"
   ]
  },
  {
   "cell_type": "markdown",
   "id": "98fe5569",
   "metadata": {},
   "source": [
    "# Data Plot"
   ]
  },
  {
   "cell_type": "code",
   "execution_count": 6,
   "id": "48c01651",
   "metadata": {},
   "outputs": [
    {
     "data": {
      "image/png": "[encoded data removed]",
      "text/plain": [
       "<Figure size 432x288 with 1 Axes>"
      ]
     },
     "metadata": {
      "needs_background": "light"
     },
     "output_type": "display_data"
    }
   ],
   "source": [
    "#Ploting the data\n",
    "plt.spy(confusion, markersize=5)\n",
    "plt.show()"
   ]
  },
  {
   "cell_type": "markdown",
   "id": "84c032ba",
   "metadata": {},
   "source": [
    "# Make Prediction"
   ]
  },
  {
   "cell_type": "code",
   "execution_count": 7,
   "id": "f4fb8673",
   "metadata": {},
   "outputs": [
    {
     "name": "stdout",
     "output_type": "stream",
     "text": [
      "Prediction for 'Result_of_Treatment_positive' (1): [1]\n",
      "Prediction for 'Result_of_Treatment_negative' (0): [0]\n"
     ]
    },
    {
     "name": "stderr",
     "output_type": "stream",
     "text": [
      "C:\\Users\\pc\\AppData\\Roaming\\Python\\Python39\\site-packages\\sklearn\\base.py:439: UserWarning: X does not have valid feature names, but LogisticRegression was fitted with feature names\n",
      "  warnings.warn(\n",
      "C:\\Users\\pc\\AppData\\Roaming\\Python\\Python39\\site-packages\\sklearn\\base.py:439: UserWarning: X does not have valid feature names, but LogisticRegression was fitted with feature names\n",
      "  warnings.warn(\n"
     ]
    }
   ],
   "source": [
    "# Make the prediction for 'Result_of_Treatment_positive' (1)\n",
    "positive_result_of_treatment = logreg.predict([X_test.iloc[0]])  # Input the relevant features for prediction (e.g., X_test.iloc[0])\n",
    "\n",
    "# Make the prediction for 'Result_of_Treatment_negative' (0)\n",
    "negative_result_of_treatment = logreg.predict([X_test.iloc[-1]])  # Input a different relevant sample for prediction\n",
    "\n",
    "#Result of predictions\n",
    "print(\"Prediction for 'Result_of_Treatment_positive' (1):\", positive_result_of_treatment)\n",
    "print(\"Prediction for 'Result_of_Treatment_negative' (0):\", negative_result_of_treatment)"
   ]
  },
  {
   "cell_type": "markdown",
   "id": "e3c6b7f5",
   "metadata": {},
   "source": [
    "# Saving Data"
   ]
  },
  {
   "cell_type": "code",
   "execution_count": 8,
   "id": "a9513c0d",
   "metadata": {},
   "outputs": [
    {
     "data": {
      "text/plain": [
       "['myModel.joblib']"
      ]
     },
     "execution_count": 8,
     "metadata": {},
     "output_type": "execute_result"
    }
   ],
   "source": [
    "joblib.dump(logreg, 'myModel.joblib')"
   ]
  },
  {
   "cell_type": "code",
   "execution_count": null,
   "id": "fa33cbcc",
   "metadata": {},
   "outputs": [],
   "source": []
  }
 ],
 "metadata": {
  "kernelspec": {
   "display_name": "Python 3 (ipykernel)",
   "language": "python",
   "name": "python3"
  },
  "language_info": {
   "codemirror_mode": {
    "name": "ipython",
    "version": 3
   },
   "file_extension": ".py",
   "mimetype": "text/x-python",
   "name": "python",
   "nbconvert_exporter": "python",
   "pygments_lexer": "ipython3",
   "version": "3.9.7"
  }
 },
 "nbformat": 4,
 "nbformat_minor": 5
}
