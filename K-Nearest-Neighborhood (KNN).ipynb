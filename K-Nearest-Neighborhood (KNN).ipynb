{
 "cells": [
  {
   "cell_type": "markdown",
   "id": "d8a2938e",
   "metadata": {},
   "source": [
    "# Importing"
   ]
  },
  {
   "cell_type": "code",
   "execution_count": 1,
   "id": "8ae00540",
   "metadata": {},
   "outputs": [],
   "source": [
    "#The import of various libraries\n",
    "import numpy as np\n",
    "import pandas as pd\n",
    "import matplotlib.pyplot as plt\n",
    "from sklearn.datasets import make_blobs\n",
    "from sklearn.neighbors import KNeighborsClassifier\n",
    "from sklearn.model_selection import train_test_split"
   ]
  },
  {
   "cell_type": "markdown",
   "id": "b11806d5",
   "metadata": {},
   "source": [
    "# Data Representation"
   ]
  },
  {
   "cell_type": "raw",
   "id": "a0569a68",
   "metadata": {},
   "source": [
    "Loading Data :"
   ]
  },
  {
   "cell_type": "code",
   "execution_count": 2,
   "id": "5207bc2d",
   "metadata": {},
   "outputs": [],
   "source": [
    "#Loading the data\n",
    "data=pd.read_excel('Immunotherapy.xlsx')"
   ]
  },
  {
   "cell_type": "raw",
   "id": "5ca4343d",
   "metadata": {},
   "source": [
    "Data Description :"
   ]
  },
  {
   "cell_type": "code",
   "execution_count": 3,
   "id": "2e25ca9e",
   "metadata": {},
   "outputs": [
    {
     "data": {
      "text/html": [
       "<div>\n",
       "<style scoped>\n",
       "    .dataframe tbody tr th:only-of-type {\n",
       "        vertical-align: middle;\n",
       "    }\n",
       "\n",
       "    .dataframe tbody tr th {\n",
       "        vertical-align: top;\n",
       "    }\n",
       "\n",
       "    .dataframe thead th {\n",
       "        text-align: right;\n",
       "    }\n",
       "</style>\n",
       "<table border=\"1\" class=\"dataframe\">\n",
       "  <thead>\n",
       "    <tr style=\"text-align: right;\">\n",
       "      <th></th>\n",
       "      <th>sex</th>\n",
       "      <th>age</th>\n",
       "      <th>Time</th>\n",
       "      <th>Number_of_Warts</th>\n",
       "      <th>Type</th>\n",
       "      <th>Area</th>\n",
       "      <th>induration_diameter</th>\n",
       "      <th>Result_of_Treatment</th>\n",
       "    </tr>\n",
       "  </thead>\n",
       "  <tbody>\n",
       "    <tr>\n",
       "      <th>count</th>\n",
       "      <td>90.000000</td>\n",
       "      <td>90.000000</td>\n",
       "      <td>90.000000</td>\n",
       "      <td>90.000000</td>\n",
       "      <td>90.000000</td>\n",
       "      <td>90.000000</td>\n",
       "      <td>90.000000</td>\n",
       "      <td>90.000000</td>\n",
       "    </tr>\n",
       "    <tr>\n",
       "      <th>mean</th>\n",
       "      <td>1.544444</td>\n",
       "      <td>31.044444</td>\n",
       "      <td>7.230556</td>\n",
       "      <td>6.144444</td>\n",
       "      <td>1.711111</td>\n",
       "      <td>95.700000</td>\n",
       "      <td>14.333333</td>\n",
       "      <td>0.788889</td>\n",
       "    </tr>\n",
       "    <tr>\n",
       "      <th>std</th>\n",
       "      <td>0.500811</td>\n",
       "      <td>12.235435</td>\n",
       "      <td>3.098166</td>\n",
       "      <td>4.212238</td>\n",
       "      <td>0.824409</td>\n",
       "      <td>136.614643</td>\n",
       "      <td>17.217707</td>\n",
       "      <td>0.410383</td>\n",
       "    </tr>\n",
       "    <tr>\n",
       "      <th>min</th>\n",
       "      <td>1.000000</td>\n",
       "      <td>15.000000</td>\n",
       "      <td>1.000000</td>\n",
       "      <td>1.000000</td>\n",
       "      <td>1.000000</td>\n",
       "      <td>6.000000</td>\n",
       "      <td>2.000000</td>\n",
       "      <td>0.000000</td>\n",
       "    </tr>\n",
       "    <tr>\n",
       "      <th>25%</th>\n",
       "      <td>1.000000</td>\n",
       "      <td>20.250000</td>\n",
       "      <td>5.000000</td>\n",
       "      <td>2.000000</td>\n",
       "      <td>1.000000</td>\n",
       "      <td>35.500000</td>\n",
       "      <td>5.000000</td>\n",
       "      <td>1.000000</td>\n",
       "    </tr>\n",
       "    <tr>\n",
       "      <th>50%</th>\n",
       "      <td>2.000000</td>\n",
       "      <td>28.500000</td>\n",
       "      <td>7.750000</td>\n",
       "      <td>6.000000</td>\n",
       "      <td>1.000000</td>\n",
       "      <td>53.000000</td>\n",
       "      <td>7.000000</td>\n",
       "      <td>1.000000</td>\n",
       "    </tr>\n",
       "    <tr>\n",
       "      <th>75%</th>\n",
       "      <td>2.000000</td>\n",
       "      <td>41.750000</td>\n",
       "      <td>9.937500</td>\n",
       "      <td>8.750000</td>\n",
       "      <td>2.000000</td>\n",
       "      <td>80.750000</td>\n",
       "      <td>9.000000</td>\n",
       "      <td>1.000000</td>\n",
       "    </tr>\n",
       "    <tr>\n",
       "      <th>max</th>\n",
       "      <td>2.000000</td>\n",
       "      <td>56.000000</td>\n",
       "      <td>12.000000</td>\n",
       "      <td>19.000000</td>\n",
       "      <td>3.000000</td>\n",
       "      <td>900.000000</td>\n",
       "      <td>70.000000</td>\n",
       "      <td>1.000000</td>\n",
       "    </tr>\n",
       "  </tbody>\n",
       "</table>\n",
       "</div>"
      ],
      "text/plain": [
       "             sex        age       Time  Number_of_Warts       Type  \\\n",
       "count  90.000000  90.000000  90.000000        90.000000  90.000000   \n",
       "mean    1.544444  31.044444   7.230556         6.144444   1.711111   \n",
       "std     0.500811  12.235435   3.098166         4.212238   0.824409   \n",
       "min     1.000000  15.000000   1.000000         1.000000   1.000000   \n",
       "25%     1.000000  20.250000   5.000000         2.000000   1.000000   \n",
       "50%     2.000000  28.500000   7.750000         6.000000   1.000000   \n",
       "75%     2.000000  41.750000   9.937500         8.750000   2.000000   \n",
       "max     2.000000  56.000000  12.000000        19.000000   3.000000   \n",
       "\n",
       "             Area  induration_diameter  Result_of_Treatment  \n",
       "count   90.000000            90.000000            90.000000  \n",
       "mean    95.700000            14.333333             0.788889  \n",
       "std    136.614643            17.217707             0.410383  \n",
       "min      6.000000             2.000000             0.000000  \n",
       "25%     35.500000             5.000000             1.000000  \n",
       "50%     53.000000             7.000000             1.000000  \n",
       "75%     80.750000             9.000000             1.000000  \n",
       "max    900.000000            70.000000             1.000000  "
      ]
     },
     "execution_count": 3,
     "metadata": {},
     "output_type": "execute_result"
    }
   ],
   "source": [
    "#Describing the data\n",
    "data.describe()"
   ]
  },
  {
   "cell_type": "raw",
   "id": "bb240b91",
   "metadata": {},
   "source": [
    "Display the Sum :"
   ]
  },
  {
   "cell_type": "code",
   "execution_count": 4,
   "id": "580cb164",
   "metadata": {},
   "outputs": [
    {
     "data": {
      "text/plain": [
       "sex                    0\n",
       "age                    0\n",
       "Time                   0\n",
       "Number_of_Warts        0\n",
       "Type                   0\n",
       "Area                   0\n",
       "induration_diameter    0\n",
       "Result_of_Treatment    0\n",
       "dtype: int64"
      ]
     },
     "execution_count": 4,
     "metadata": {},
     "output_type": "execute_result"
    }
   ],
   "source": [
    "#Calculate and display the sum of all attributes\n",
    "data.isnull().sum()"
   ]
  },
  {
   "cell_type": "markdown",
   "id": "df6cd2ef",
   "metadata": {},
   "source": [
    "Display Value Counts :"
   ]
  },
  {
   "cell_type": "code",
   "execution_count": 5,
   "id": "ab7ea8d3",
   "metadata": {},
   "outputs": [
    {
     "data": {
      "text/plain": [
       "sex  age  Time   Number_of_Warts  Type  Area  induration_diameter  Result_of_Treatment\n",
       "1    15   3.00   2                3     900   70                   1                      1\n",
       "2    33   6.25   2                1     30    3                    1                      1\n",
       "     28   11.00  3                3     91    6                    0                      1\n",
       "          7.50   4                1     9     2                    1                      1\n",
       "     26   10.50  6                1     50    9                    0                      1\n",
       "                                                                                         ..\n",
       "1    35   9.75   2                2     8     6                    1                      1\n",
       "          8.75   10               2     69    7                    1                      1\n",
       "          6.75   4                3     41    8                    1                      1\n",
       "     34   5.00   7                3     64    7                    0                      1\n",
       "2    56   11.75  7                1     31    50                   0                      1\n",
       "Length: 90, dtype: int64"
      ]
     },
     "execution_count": 5,
     "metadata": {},
     "output_type": "execute_result"
    }
   ],
   "source": [
    "#Calculate and display value counts\n",
    "data.value_counts()"
   ]
  },
  {
   "cell_type": "markdown",
   "id": "684ef912",
   "metadata": {},
   "source": [
    "# Data Slicing"
   ]
  },
  {
   "cell_type": "raw",
   "id": "700f5060",
   "metadata": {},
   "source": [
    "Slice the Dataset :"
   ]
  },
  {
   "cell_type": "code",
   "execution_count": 6,
   "id": "5b9a6f70",
   "metadata": {},
   "outputs": [],
   "source": [
    "#Slicing the data into two classes\n",
    "x=data.iloc[:,:-1].values #Class X which represent the data of input attributes (sex, age, Time, Number_of_Warts, Type, Area, induration_diameter)\n",
    "y=data.iloc[:,-1].values #Class y which represent the data of output attribute (Result_of_Treatement)"
   ]
  },
  {
   "cell_type": "raw",
   "id": "a3a3b2b2",
   "metadata": {},
   "source": [
    "Display X :"
   ]
  },
  {
   "cell_type": "code",
   "execution_count": 7,
   "id": "3b6cbb5e",
   "metadata": {},
   "outputs": [
    {
     "name": "stdout",
     "output_type": "stream",
     "text": [
      "[[  1.    22.     2.25  14.     3.    51.    50.  ]\n",
      " [  1.    15.     3.     2.     3.   900.    70.  ]\n",
      " [  1.    16.    10.5    2.     1.   100.    25.  ]\n",
      " [  1.    27.     4.5    9.     3.    80.    30.  ]\n",
      " [  1.    20.     8.     6.     1.    45.     8.  ]\n",
      " [  1.    15.     5.     3.     3.    84.     7.  ]\n",
      " [  1.    35.     9.75   2.     2.     8.     6.  ]\n",
      " [  2.    28.     7.5    4.     1.     9.     2.  ]\n",
      " [  2.    19.     6.     2.     1.   225.     8.  ]\n",
      " [  2.    32.    12.     6.     3.    35.     5.  ]\n",
      " [  2.    33.     6.25   2.     1.    30.     3.  ]\n",
      " [  2.    17.     5.75  12.     3.    25.     7.  ]\n",
      " [  2.    15.     1.75   1.     2.    49.     7.  ]\n",
      " [  2.    15.     5.5   12.     1.    48.     7.  ]\n",
      " [  2.    16.    10.     7.     1.   143.     6.  ]\n",
      " [  2.    33.     9.25   2.     2.   150.     8.  ]\n",
      " [  2.    26.     7.75   6.     2.     6.     5.  ]\n",
      " [  2.    23.     7.5   10.     2.    43.     3.  ]\n",
      " [  2.    15.     6.5   19.     1.    56.     7.  ]\n",
      " [  2.    26.     6.75   2.     1.     6.     6.  ]\n",
      " [  1.    22.     1.25   3.     3.    47.     3.  ]\n",
      " [  2.    19.     2.25   2.     1.    60.     7.  ]\n",
      " [  2.    26.    10.5    6.     1.    50.     9.  ]\n",
      " [  1.    25.     5.75   2.     1.   300.     7.  ]\n",
      " [  2.    17.    11.25   4.     3.    70.     7.  ]\n",
      " [  1.    27.     5.     2.     1.    20.     5.  ]\n",
      " [  2.    24.     4.75  10.     3.    30.    45.  ]\n",
      " [  1.    15.    11.     6.     1.    30.    25.  ]\n",
      " [  2.    34.    11.5   12.     1.    25.    50.  ]\n",
      " [  2.    20.     7.75  18.     3.    45.     2.  ]\n",
      " [  2.    38.     2.5    1.     3.    43.    50.  ]\n",
      " [  1.    23.     3.     2.     3.    87.    70.  ]\n",
      " [  2.    48.    10.25   7.     1.    50.    25.  ]\n",
      " [  2.    24.     4.25   1.     1.   174.    30.  ]\n",
      " [  2.    33.     8.     3.     1.   502.     8.  ]\n",
      " [  1.    34.     5.     7.     3.    64.     7.  ]\n",
      " [  2.    41.    11.    11.     2.    21.     6.  ]\n",
      " [  1.    29.     8.75   3.     1.   504.     2.  ]\n",
      " [  2.    22.     8.5    5.     1.    99.     8.  ]\n",
      " [  1.    45.    11.25   4.     1.    72.     5.  ]\n",
      " [  2.    22.     8.25   9.     1.   352.     3.  ]\n",
      " [  1.    35.     8.75  10.     2.    69.     7.  ]\n",
      " [  2.    34.     8.5    1.     2.   163.     7.  ]\n",
      " [  1.    49.     4.5    2.     1.    33.     7.  ]\n",
      " [  2.    19.    11.     5.     2.    51.     6.  ]\n",
      " [  1.    21.     8.     3.     1.    17.     8.  ]\n",
      " [  1.    26.     7.75  13.     2.    13.     5.  ]\n",
      " [  1.    51.     8.75   2.     2.    57.     3.  ]\n",
      " [  1.    19.     7.75   6.     1.    32.     7.  ]\n",
      " [  1.    38.    12.    14.     1.    87.     6.  ]\n",
      " [  2.    36.     1.75  10.     3.    45.     3.  ]\n",
      " [  2.    52.     2.25   5.     1.    63.     7.  ]\n",
      " [  2.    49.     9.     4.     2.    14.     9.  ]\n",
      " [  1.    23.     5.75   2.     1.    43.     7.  ]\n",
      " [  1.    45.    10.     8.     1.    58.     7.  ]\n",
      " [  1.    54.     7.5   13.     3.    43.     5.  ]\n",
      " [  2.    47.     5.25   3.     3.    23.    45.  ]\n",
      " [  2.    53.    10.     1.     2.    30.    25.  ]\n",
      " [  2.    56.    11.75   7.     1.    31.    50.  ]\n",
      " [  1.    27.    11.25   3.     2.    37.     2.  ]\n",
      " [  2.    47.     3.75  14.     2.    67.    50.  ]\n",
      " [  2.    19.     2.25   8.     2.    42.    70.  ]\n",
      " [  2.    33.     8.     5.     1.    63.    25.  ]\n",
      " [  2.    15.     4.    12.     1.    72.    30.  ]\n",
      " [  1.    17.     8.5    2.     1.    44.     8.  ]\n",
      " [  1.    29.     5.    12.     3.    75.     7.  ]\n",
      " [  1.    27.    11.75   8.     1.   208.     6.  ]\n",
      " [  2.    51.     6.     6.     1.    80.     2.  ]\n",
      " [  1.    35.     6.75   4.     3.    41.     8.  ]\n",
      " [  2.    47.    10.75   8.     1.    57.     5.  ]\n",
      " [  1.    43.     8.     1.     1.    59.     3.  ]\n",
      " [  1.    15.     4.     4.     3.    25.     7.  ]\n",
      " [  1.    33.     1.75   7.     2.   379.     7.  ]\n",
      " [  2.    51.     4.     1.     1.    65.     7.  ]\n",
      " [  1.    45.     6.5    9.     2.    49.     6.  ]\n",
      " [  2.    47.     9.25  13.     2.   367.     8.  ]\n",
      " [  1.    18.    11.75   5.     2.    13.     5.  ]\n",
      " [  2.    46.     7.75   8.     1.    40.     3.  ]\n",
      " [  1.    43.    11.     7.     1.   507.     7.  ]\n",
      " [  2.    28.    11.     3.     3.    91.     6.  ]\n",
      " [  1.    30.     1.     2.     1.    88.     3.  ]\n",
      " [  2.    16.     2.    11.     1.    47.     7.  ]\n",
      " [  2.    42.     8.75   8.     2.    73.     9.  ]\n",
      " [  2.    15.     8.     1.     1.    55.     7.  ]\n",
      " [  2.    53.     7.25   6.     1.    81.     7.  ]\n",
      " [  1.    40.     5.5    8.     3.    69.     5.  ]\n",
      " [  1.    38.     7.5    8.     2.    56.    45.  ]\n",
      " [  1.    46.    11.5    4.     1.    91.    25.  ]\n",
      " [  1.    32.    12.     9.     1.    43.    50.  ]\n",
      " [  2.    23.     6.75   6.     1.    19.     2.  ]]\n"
     ]
    }
   ],
   "source": [
    "#Display Class X\n",
    "print(x)"
   ]
  },
  {
   "cell_type": "raw",
   "id": "da9d978d",
   "metadata": {},
   "source": [
    "Display y :"
   ]
  },
  {
   "cell_type": "code",
   "execution_count": 8,
   "id": "edbfc7b7",
   "metadata": {},
   "outputs": [
    {
     "name": "stdout",
     "output_type": "stream",
     "text": [
      "[1 1 1 1 1 1 1 1 1 0 1 1 0 1 1 1 1 1 1 1 1 1 0 1 1 1 1 0 0 1 1 1 1 1 1 0 0\n",
      " 1 1 0 1 1 0 0 1 1 1 1 1 0 1 1 1 1 1 1 1 1 0 1 1 1 1 1 1 1 0 1 1 0 1 1 0 1\n",
      " 1 1 1 1 1 0 1 1 0 1 1 1 1 0 0 1]\n"
     ]
    }
   ],
   "source": [
    "#Display Class y\n",
    "print(y)"
   ]
  },
  {
   "cell_type": "markdown",
   "id": "e7a9a2fa",
   "metadata": {},
   "source": [
    "# Imblacing & Over_Sambling"
   ]
  },
  {
   "cell_type": "raw",
   "id": "28f15e64",
   "metadata": {},
   "source": [
    "Imblacing technique :"
   ]
  },
  {
   "cell_type": "code",
   "execution_count": 9,
   "id": "546173c2",
   "metadata": {},
   "outputs": [],
   "source": [
    "from imblearn.over_sampling import RandomOverSampler\n",
    "ro=RandomOverSampler()\n",
    "x_data,y_data=ro.fit_resample(x,y)"
   ]
  },
  {
   "cell_type": "raw",
   "id": "0848563c",
   "metadata": {},
   "source": [
    "Over_Sampling technique :"
   ]
  },
  {
   "cell_type": "code",
   "execution_count": 10,
   "id": "a9e0be68",
   "metadata": {},
   "outputs": [
    {
     "name": "stdout",
     "output_type": "stream",
     "text": [
      "Actual Data: Counter({1: 71, 0: 19})\n",
      "Artificial Data: Counter({1: 71, 0: 71})\n"
     ]
    }
   ],
   "source": [
    "from collections import Counter\n",
    "print(\"Actual Data:\",Counter(y))\n",
    "print(\"Artificial Data:\",Counter(y_data))"
   ]
  },
  {
   "cell_type": "markdown",
   "id": "c40362b3",
   "metadata": {},
   "source": [
    "# KNN using K-Fold"
   ]
  },
  {
   "cell_type": "raw",
   "id": "f124430d",
   "metadata": {},
   "source": [
    "Stratified K-Fold :"
   ]
  },
  {
   "cell_type": "code",
   "execution_count": 11,
   "id": "b5e0e9c5",
   "metadata": {},
   "outputs": [
    {
     "name": "stdout",
     "output_type": "stream",
     "text": [
      "StratifiedKFold(n_splits=5, random_state=0, shuffle=True)\n"
     ]
    }
   ],
   "source": [
    "#Stratify the algorithm K-Fold which split the data into K mini classes\n",
    "from sklearn.model_selection import StratifiedKFold\n",
    "sf=StratifiedKFold(n_splits=5,shuffle=True,random_state=0)\n",
    "sf.get_n_splits(x_data)\n",
    "print(sf)"
   ]
  },
  {
   "cell_type": "raw",
   "id": "5179431f",
   "metadata": {},
   "source": [
    "Results of KNN with using K-Fold :"
   ]
  },
  {
   "cell_type": "code",
   "execution_count": 12,
   "id": "6e51a94a",
   "metadata": {},
   "outputs": [
    {
     "name": "stdout",
     "output_type": "stream",
     "text": [
      "TRAIN: [  0   1   2   3   4   5   7   8   9  10  11  12  13  14  15  16  17  18\n",
      "  19  20  23  24  26  27  28  31  32  34  35  36  37  38  39  40  41  42\n",
      "  45  46  47  48  49  50  51  53  55  56  57  58  61  62  63  64  65  67\n",
      "  68  70  72  73  75  76  78  79  80  81  82  84  85  86  87  88  89  90\n",
      "  91  92  93  94  96  97  99 101 102 104 105 106 107 108 109 110 111 112\n",
      " 113 114 115 116 117 119 120 122 123 124 125 126 127 128 129 130 131 133\n",
      " 134 135 137 139 140] TEST: [  6  21  22  25  29  30  33  43  44  52  54  59  60  66  69  71  74  77\n",
      "  83  95  98 100 103 118 121 132 136 138 141]\n",
      "[0.56521739 0.65217391 0.69565217 0.45454545 0.72727273]\n",
      "61.89723320158104\n",
      "TRAIN: [  2   4   5   6   7   8   9  10  11  12  14  15  16  17  18  19  20  21\n",
      "  22  23  24  25  26  27  28  29  30  31  32  33  34  36  37  38  39  40\n",
      "  41  43  44  45  47  48  49  50  52  54  57  59  60  62  64  65  66  67\n",
      "  68  69  70  71  72  73  74  75  77  79  80  83  84  85  86  88  89  90\n",
      "  93  95  96  98 100 101 102 103 104 105 106 107 108 109 110 111 112 113\n",
      " 114 115 116 117 118 119 121 122 124 127 128 129 130 131 132 133 134 135\n",
      " 136 137 138 139 141] TEST: [  0   1   3  13  35  42  46  51  53  55  56  58  61  63  76  78  81  82\n",
      "  87  91  92  94  97  99 120 123 125 126 140]\n",
      "[0.65217391 0.60869565 0.60869565 0.63636364 0.54545455]\n",
      "61.027667984189726\n",
      "TRAIN: [  0   1   2   3   5   6   7   9  10  11  12  13  17  18  19  20  21  22\n",
      "  23  24  25  27  28  29  30  31  32  33  35  36  37  38  39  40  42  43\n",
      "  44  45  46  48  49  51  52  53  54  55  56  57  58  59  60  61  63  64\n",
      "  65  66  67  69  71  73  74  75  76  77  78  81  82  83  84  85  86  87\n",
      "  89  90  91  92  94  95  96  97  98  99 100 101 102 103 104 105 107 110\n",
      " 111 113 115 116 118 119 120 121 122 123 125 126 127 129 131 132 133 134\n",
      " 135 136 138 139 140 141] TEST: [  4   8  14  15  16  26  34  41  47  50  62  68  70  72  79  80  88  93\n",
      " 106 108 109 112 114 117 124 128 130 137]\n",
      "[0.69565217 0.60869565 0.56521739 0.60869565 0.45454545]\n",
      "58.65612648221343\n",
      "TRAIN: [  0   1   3   4   6   7   8  10  12  13  14  15  16  18  19  21  22  23\n",
      "  25  26  28  29  30  33  34  35  40  41  42  43  44  45  46  47  49  50\n",
      "  51  52  53  54  55  56  57  58  59  60  61  62  63  64  66  67  68  69\n",
      "  70  71  72  73  74  75  76  77  78  79  80  81  82  83  84  85  87  88\n",
      "  91  92  93  94  95  96  97  98  99 100 101 103 106 107 108 109 110 112\n",
      " 113 114 115 116 117 118 120 121 123 124 125 126 127 128 129 130 131 132\n",
      " 134 136 137 138 140 141] TEST: [  2   5   9  11  17  20  24  27  31  32  36  37  38  39  48  65  86  89\n",
      "  90 102 104 105 111 119 122 133 135 139]\n",
      "[0.56521739 0.65217391 0.65217391 0.39130435 0.40909091]\n",
      "53.39920948616601\n",
      "TRAIN: [  0   1   2   3   4   5   6   8   9  11  13  14  15  16  17  20  21  22\n",
      "  24  25  26  27  29  30  31  32  33  34  35  36  37  38  39  41  42  43\n",
      "  44  46  47  48  50  51  52  53  54  55  56  58  59  60  61  62  63  65\n",
      "  66  68  69  70  71  72  74  76  77  78  79  80  81  82  83  86  87  88\n",
      "  89  90  91  92  93  94  95  97  98  99 100 102 103 104 105 106 108 109\n",
      " 111 112 114 117 118 119 120 121 122 123 124 125 126 128 130 132 133 135\n",
      " 136 137 138 139 140 141] TEST: [  7  10  12  18  19  23  28  40  45  49  57  64  67  73  75  84  85  96\n",
      " 101 107 110 113 115 116 127 129 131 134]\n",
      "[0.52173913 0.7826087  0.52173913 0.69565217 0.59090909]\n",
      "62.25296442687747\n"
     ]
    }
   ],
   "source": [
    "for train_index,test_index in sf.split(x_data,y_data):\n",
    " print(\"TRAIN:\", train_index, \"TEST:\", test_index)\n",
    " x_train, x_test = x_data[train_index], x_data[test_index]\n",
    " y_train, y_test = y_data[train_index], y_data[test_index]\n",
    " \n",
    " \n",
    " # Define the algorihm\n",
    " from sklearn.neighbors import KNeighborsClassifier\n",
    " classifier = KNeighborsClassifier(n_neighbors = 5, metric = 'minkowski', p = 2)\n",
    " classifier.fit(x_train,y_train) \n",
    " from sklearn.model_selection import cross_val_score\n",
    " scores=cross_val_score(classifier,x_train,y_train,cv=sf)\n",
    " print(scores)\n",
    " print(np.mean(scores)*100)"
   ]
  },
  {
   "cell_type": "markdown",
   "id": "4b24228a",
   "metadata": {},
   "source": [
    "# Prediction"
   ]
  },
  {
   "cell_type": "code",
   "execution_count": 13,
   "id": "5e5e35b3",
   "metadata": {},
   "outputs": [
    {
     "name": "stdout",
     "output_type": "stream",
     "text": [
      "[1 0 1 1 1 0 1 0 1 0 0 0 1 0 0 0 1 0 1 0 0 0 1 1 1 0 1 1]\n"
     ]
    }
   ],
   "source": [
    "#Making the prediction for Class y and display it after implement the KNN supervised learning technique using K-Fold on our dataset\n",
    "from sklearn.model_selection import cross_val_predict\n",
    "y_pred=cross_val_predict(classifier,x_test,y_test,cv=sf)\n",
    "print(y_pred)"
   ]
  },
  {
   "cell_type": "markdown",
   "id": "8a97cde3",
   "metadata": {},
   "source": [
    "# Accuracy"
   ]
  },
  {
   "cell_type": "code",
   "execution_count": 14,
   "id": "1001f38d",
   "metadata": {},
   "outputs": [
    {
     "data": {
      "text/plain": [
       "42.857142857142854"
      ]
     },
     "execution_count": 14,
     "metadata": {},
     "output_type": "execute_result"
    }
   ],
   "source": [
    "#Calculate the new updated accuracy value after implementing KNN on our dataset\n",
    "from sklearn.metrics import accuracy_score\n",
    "ac=accuracy_score(y_pred,y_test)*100\n",
    "ac"
   ]
  },
  {
   "cell_type": "code",
   "execution_count": null,
   "id": "cb3baa37",
   "metadata": {},
   "outputs": [],
   "source": []
  }
 ],
 "metadata": {
  "kernelspec": {
   "display_name": "Python 3 (ipykernel)",
   "language": "python",
   "name": "python3"
  },
  "language_info": {
   "codemirror_mode": {
    "name": "ipython",
    "version": 3
   },
   "file_extension": ".py",
   "mimetype": "text/x-python",
   "name": "python",
   "nbconvert_exporter": "python",
   "pygments_lexer": "ipython3",
   "version": "3.9.7"
  }
 },
 "nbformat": 4,
 "nbformat_minor": 5
}
