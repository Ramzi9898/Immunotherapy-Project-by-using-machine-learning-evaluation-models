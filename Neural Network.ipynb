{
 "cells": [
  {
   "cell_type": "markdown",
   "id": "b76980e5",
   "metadata": {},
   "source": [
    "# Importing"
   ]
  },
  {
   "cell_type": "code",
   "execution_count": 1,
   "id": "7b917323",
   "metadata": {},
   "outputs": [],
   "source": [
    "#The import of various libraries\n",
    "import numpy as np\n",
    "import pandas as pd\n",
    "from sklearn.neural_network import MLPClassifier\n",
    "from sklearn.model_selection import train_test_split, GridSearchCV\n",
    "from sklearn.metrics import classification_report, confusion_matrix\n",
    "import matplotlib.pyplot as plt"
   ]
  },
  {
   "cell_type": "markdown",
   "id": "adf6b891",
   "metadata": {},
   "source": [
    "# Loading Data"
   ]
  },
  {
   "cell_type": "code",
   "execution_count": 2,
   "id": "0c964df1",
   "metadata": {},
   "outputs": [],
   "source": [
    "#Load the Data\n",
    "data = pd.read_excel('Immunotherapy.xlsx')\n",
    "X = data.iloc[:, :-1]  # Features\n",
    "y = data.iloc[:, -1]   # Target variable"
   ]
  },
  {
   "cell_type": "markdown",
   "id": "1c35ee88",
   "metadata": {},
   "source": [
    "# Preprocessing"
   ]
  },
  {
   "cell_type": "code",
   "execution_count": 3,
   "id": "7ccd01ea",
   "metadata": {},
   "outputs": [],
   "source": [
    "#Preprocess the data\n",
    "def remove_stop(x):\n",
    "    #Code to remove stop words from x\n",
    "    stop_words = ['the', 'a', 'an', 'and', 'or', 'but', 'not']  # Example list of stop words\n",
    "    x = ' '.join([word for word in x.split() if word.lower() not in stop_words])\n",
    "    return x\n",
    "\n",
    "def remove_multiple_spaces(x):\n",
    "    #Code to remove multiple spaces from x\n",
    "    x = ' '.join(x.split())\n",
    "    return x\n",
    "\n",
    "def preprocessing(data):\n",
    "    #Preprocessing steps for data\n",
    "    data['text'] = data['text'].apply(remove_stop)\n",
    "    data['text'] = data['text'].apply(remove_multiple_spaces)\n",
    "    return data"
   ]
  },
  {
   "cell_type": "markdown",
   "id": "4430afcf",
   "metadata": {},
   "source": [
    "# Hidden Layers"
   ]
  },
  {
   "cell_type": "raw",
   "id": "63f5ff28",
   "metadata": {},
   "source": [
    "Neural Network using one Hidden Layer :"
   ]
  },
  {
   "cell_type": "code",
   "execution_count": 4,
   "id": "55841ac2",
   "metadata": {},
   "outputs": [],
   "source": [
    "def one_hidden_layer(X_main, y_main, iter, noeuds_hidden_layers, alphas):\n",
    "    #Create a MLPClassifier with one hidden layer\n",
    "    model = MLPClassifier(hidden_layer_sizes=(noeuds_hidden_layers,), max_iter=iter, alpha=alphas)\n",
    "\n",
    "    #Split the data into train and test sets\n",
    "    X_train, X_test, y_train, y_test = train_test_split(X_main, y_main, test_size=0.2, random_state=42)\n",
    "\n",
    "    #Fit the model on the training data\n",
    "    model.fit(X_train, y_train)\n",
    "\n",
    "    #Predict on the test data\n",
    "    y_pred = model.predict(X_test)\n",
    "\n",
    "    #Calculate accuracy score\n",
    "    accuracy = accuracy_score(y_test, y_pred)\n",
    "\n",
    "    return accuracy"
   ]
  },
  {
   "cell_type": "raw",
   "id": "1530ac92",
   "metadata": {},
   "source": [
    "Neural Network using two Hidden Layers :"
   ]
  },
  {
   "cell_type": "code",
   "execution_count": 5,
   "id": "40035e3b",
   "metadata": {},
   "outputs": [],
   "source": [
    "def two_hidden_layer(X_main, y_main, iter, noeuds_hidden_layers, alphas):\n",
    "    #Create a MLPClassifier with two hidden layers\n",
    "    model = MLPClassifier(hidden_layer_sizes=(noeuds_hidden_layers, noeuds_hidden_layers), max_iter=iter, alpha=alphas)\n",
    "\n",
    "    #Split the data into train and test sets\n",
    "    X_train, X_test, y_train, y_test = train_test_split(X_main, y_main, test_size=0.2, random_state=42)\n",
    "\n",
    "    #Fit the model on the training data\n",
    "    model.fit(X_train, y_train)\n",
    "\n",
    "    #Predict on the test data\n",
    "    y_pred = model.predict(X_test)\n",
    "\n",
    "    #Calculate accuracy score\n",
    "    accuracy = accuracy_score(y_test, y_pred)\n",
    "\n",
    "    return accuracy"
   ]
  },
  {
   "cell_type": "raw",
   "id": "5dab5b48",
   "metadata": {},
   "source": [
    "Neural Network using three Hidden Layers :"
   ]
  },
  {
   "cell_type": "code",
   "execution_count": 6,
   "id": "27e71a2d",
   "metadata": {},
   "outputs": [],
   "source": [
    "def three_hidden_layer(X_main, y_main, iter, noeuds_hidden_layers, alphas):\n",
    "    # Create a MLPClassifier with three hidden layers\n",
    "    model = MLPClassifier(hidden_layer_sizes=(noeuds_hidden_layers, noeuds_hidden_layers, noeuds_hidden_layers),\n",
    "                          max_iter=iter, alpha=alphas)\n",
    "\n",
    "    #Split the data into train and test sets\n",
    "    X_train, X_test, y_train, y_test = train_test_split(X_main, y_main, test_size=0.2, random_state=42)\n",
    "\n",
    "    #Fit the model on the training data\n",
    "    model.fit(X_train, y_train)\n",
    "\n",
    "    #Predict on the test data\n",
    "    y_pred = model.predict(X_test)\n",
    "\n",
    "    #Calculate accuracy score\n",
    "    accuracy = accuracy_score(y_test, y_pred)\n",
    "\n",
    "    return accuracy"
   ]
  },
  {
   "cell_type": "raw",
   "id": "f975dabc",
   "metadata": {},
   "source": [
    "Choosing Hidden Layer :"
   ]
  },
  {
   "cell_type": "code",
   "execution_count": 7,
   "id": "f23c8b9d",
   "metadata": {},
   "outputs": [],
   "source": [
    "def which_hidden_layer_we_choose(X_main, y_main, best_one_hidden_layer, best_two_hidden_layer, best_three_hidden_layer):\n",
    "    best_accuracy = max(best_one_hidden_layer, best_two_hidden_layer, best_three_hidden_layer)\n",
    "    if best_accuracy == best_one_hidden_layer:\n",
    "        return \"One Hidden Layer\"\n",
    "    elif best_accuracy == best_two_hidden_layer:\n",
    "        return \"Two Hidden Layers\"\n",
    "    elif best_accuracy == best_three_hidden_layer:\n",
    "        return \"Three Hidden Layers\""
   ]
  },
  {
   "cell_type": "markdown",
   "id": "03ef6378",
   "metadata": {},
   "source": [
    "# Main Function"
   ]
  },
  {
   "cell_type": "code",
   "execution_count": 8,
   "id": "ae9fb2e4",
   "metadata": {},
   "outputs": [],
   "source": [
    "def main():\n",
    "    #Load the dataset\n",
    "    data = pd.read_csv('your_dataset.csv')\n",
    "\n",
    "    #Preprocess the data\n",
    "    preprocessed_data = preprocessing(data)\n",
    "\n",
    "    #Extract features and labels\n",
    "    X = preprocessed_data['text']\n",
    "    y = preprocessed_data['label']\n",
    "\n",
    "    #Hyperparameter tuning for one hidden layer\n",
    "    best_one_hidden_layer = one_hidden_layer(X, y, iter=1000, noeuds_hidden_layers=10, alphas=0.0001)\n",
    "\n",
    "    #Hyperparameter tuning for two hidden layers\n",
    "    best_two_hidden_layer = two_hidden_layer(X, y, iter=1000, noeuds_hidden_layers=10, alphas=0.0001)\n",
    "\n",
    "    #Hyperparameter tuning for three hidden layers\n",
    "    best_three_hidden_layer = three_hidden_layer(X, y, iter=1000, noeuds_hidden_layers=10, alphas=0.0001)\n",
    "\n",
    "    #Choose the best hidden layer configuration\n",
    "    best_hidden_layer = which_hidden_layer_we_choose(X, y, best_one_hidden_layer, best_two_hidden_layer,\n",
    "                                                     best_three_hidden_layer)\n",
    "\n",
    "    print(\"Best Hidden Layer Configuration:\", best_hidden_layer)"
   ]
  },
  {
   "cell_type": "code",
   "execution_count": null,
   "id": "c4b4ad0a",
   "metadata": {},
   "outputs": [],
   "source": []
  }
 ],
 "metadata": {
  "kernelspec": {
   "display_name": "Python 3 (ipykernel)",
   "language": "python",
   "name": "python3"
  },
  "language_info": {
   "codemirror_mode": {
    "name": "ipython",
    "version": 3
   },
   "file_extension": ".py",
   "mimetype": "text/x-python",
   "name": "python",
   "nbconvert_exporter": "python",
   "pygments_lexer": "ipython3",
   "version": "3.9.7"
  }
 },
 "nbformat": 4,
 "nbformat_minor": 5
}
